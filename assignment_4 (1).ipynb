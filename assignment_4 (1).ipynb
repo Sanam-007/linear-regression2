{
  "nbformat": 4,
  "nbformat_minor": 0,
  "metadata": {
    "colab": {
      "provenance": []
    },
    "kernelspec": {
      "name": "python3",
      "display_name": "Python 3"
    },
    "language_info": {
      "name": "python"
    }
  },
  "cells": [
    {
      "cell_type": "code",
      "source": [
        "import numpy as np\n",
        "import pandas as pd\n",
        "\n",
        "# Given data\n",
        "weights = np.array([2, 4, 5, 3, 6, 5, 7])\n",
        "prices = np.array([35, 60, 20, 50, 50, 55, 60])\n",
        "\n",
        "# Task 1: Manually compute the slope (M) and y-intercept (C)\n",
        "n = len(weights)\n",
        "sum_x = np.sum(weights)\n",
        "sum_y = np.sum(prices)\n",
        "sum_xy = np.sum(weights * prices)\n",
        "sum_x_squared = np.sum(weights**2)\n",
        "\n",
        "slope_M = (n * sum_xy - sum_x * sum_y) / (n * sum_x_squared - sum_x**2)\n",
        "intercept_C = (sum_y - slope_M * sum_x) / n\n",
        "\n",
        "# Predict the price when the weight is 6\n",
        "predicted_price = slope_M * 6 + intercept_C\n",
        "\n",
        "print(\"Task 1:\")\n",
        "print(\"Slope (M):\", slope_M)\n",
        "print(\"Y-intercept (C):\", intercept_C)\n",
        "print(\"Predicted price for weight 6:\", predicted_price)\n",
        "\n",
        "# Task 2: Compute the residuals\n",
        "predicted_prices = slope_M * weights + intercept_C\n",
        "residuals = prices - predicted_prices\n",
        "\n",
        "print(\"\\nTask 2:\")\n",
        "residuals_table = pd.DataFrame({'Weight': weights, 'Actual Price': prices, 'Predicted Price': predicted_prices, 'Residual': residuals})\n",
        "print(residuals_table)\n",
        "\n",
        "# Task 3: Calculate Mean Squared Error (MSE) and Mean Absolute Error (MAE)\n",
        "mse = np.mean(residuals**2)\n",
        "mae = np.mean(np.abs(residuals))\n",
        "\n",
        "print(\"\\nTask 3:\")\n",
        "print(\"Mean Squared Error (MSE):\", mse)\n",
        "print(\"Mean Absolute Error (MAE):\", mae)\n",
        "\n",
        "# Final Task: Generate an Excel file\n",
        "results_dict = {\n",
        "    'Weight': weights,\n",
        "    'Actual Price': prices,\n",
        "    'Predicted Price': predicted_prices,\n",
        "    'Residual': residuals\n",
        "}\n",
        "\n",
        "results_df = pd.DataFrame(results_dict)\n",
        "\n",
        "results_df.to_excel('linear_regression_results.xlsx', index=False)\n",
        "print(\"\\nExcel file 'linear_regression_results.xlsx' generated successfully.\")\n"
      ],
      "metadata": {
        "colab": {
          "base_uri": "https://localhost:8080/"
        },
        "id": "IfB23Xw6__tX",
        "outputId": "186f1466-1142-4b11-c67b-b05211c619ed"
      },
      "execution_count": 5,
      "outputs": [
        {
          "output_type": "stream",
          "name": "stdout",
          "text": [
            "Task 1:\n",
            "Slope (M): 2.620967741935484\n",
            "Y-intercept (C): 35.16129032258065\n",
            "Predicted price for weight 6: 50.88709677419355\n",
            "\n",
            "Task 2:\n",
            "   Weight  Actual Price  Predicted Price   Residual\n",
            "0       2            35        40.403226  -5.403226\n",
            "1       4            60        45.645161  14.354839\n",
            "2       5            20        48.266129 -28.266129\n",
            "3       3            50        43.024194   6.975806\n",
            "4       6            50        50.887097  -0.887097\n",
            "5       5            55        48.266129   6.733871\n",
            "6       7            60        53.508065   6.491935\n",
            "\n",
            "Task 3:\n",
            "Mean Squared Error (MSE): 167.30990783410135\n",
            "Mean Absolute Error (MAE): 9.87327188940092\n",
            "\n",
            "Excel file 'linear_regression_results.xlsx' generated successfully.\n"
          ]
        }
      ]
    }
  ]
}